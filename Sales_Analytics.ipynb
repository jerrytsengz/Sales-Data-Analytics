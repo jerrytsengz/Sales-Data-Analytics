{
  "nbformat": 4,
  "nbformat_minor": 0,
  "metadata": {
    "colab": {
      "provenance": []
    },
    "kernelspec": {
      "name": "python3",
      "display_name": "Python 3"
    },
    "language_info": {
      "name": "python"
    }
  },
  "cells": [
    {
      "cell_type": "code",
      "execution_count": null,
      "metadata": {
        "id": "wxAMvTacB-wu"
      },
      "outputs": [],
      "source": [
        "import pandas as pd\n",
        "import numpy as np\n",
        "import matplotlib.pyplot as plt\n",
        "import seaborn as sns\n",
        "import matplotlib.pylab as pylab\n",
        "x1 = pd.ExcelFile(\"/content/TableauSalesData.xlsx\")\n",
        "SalesData = x1.parse(\"Orders\")"
      ]
    },
    {
      "cell_type": "code",
      "source": [
        "SalesData.head()"
      ],
      "metadata": {
        "id": "-3D4iJZr8bOW"
      },
      "execution_count": null,
      "outputs": []
    },
    {
      "cell_type": "code",
      "source": [
        "#Check which subcategory is the most profitable\n",
        "SubProfitAndSales = SalesData[[\"Sub-Category\", \"Profit\"]]\n",
        "TotalSubProfitAndSales = SubProfitAndSales.groupby(by = \"Sub-Category\").sum().sort_values(by = \"Profit\", ascending = False)\n",
        "print(TotalSubProfitAndSales)"
      ],
      "metadata": {
        "id": "YjvtaWwN7uua",
        "colab": {
          "base_uri": "https://localhost:8080/"
        },
        "outputId": "0691eff5-f4af-453d-eea7-5da64ce581a8"
      },
      "execution_count": null,
      "outputs": [
        {
          "output_type": "stream",
          "name": "stdout",
          "text": [
            "                  Profit\n",
            "Sub-Category            \n",
            "Copiers       55617.8249\n",
            "Phones        44515.7306\n",
            "Accessories   41936.6357\n",
            "Paper         34053.5693\n",
            "Binders       30221.7633\n",
            "Chairs        26590.1663\n",
            "Storage       21278.8264\n",
            "Appliances    18138.0054\n",
            "Furnishings   13059.1436\n",
            "Envelopes      6964.1767\n",
            "Art            6527.7870\n",
            "Labels         5546.2540\n",
            "Machines       3384.7569\n",
            "Fasteners       949.5182\n",
            "Supplies      -1189.0995\n",
            "Bookcases     -3472.5560\n",
            "Tables       -17725.4811\n"
          ]
        }
      ]
    },
    {
      "cell_type": "code",
      "source": [
        "#Checking the most profitable produdct in the copier category\n",
        "CopierOrders = SalesData.loc[SalesData[\"Sub-Category\"] == \"Copiers\"]\n",
        "CopierProfit = CopierOrders[[\"Product Name\", \"Profit\", \"Sales\", \"Quantity\"]].groupby(by = \"Product Name\").sum().sort_values(by = \"Profit\", ascending = False)\n",
        "print(CopierProfit)"
      ],
      "metadata": {
        "id": "tcSQ8GjxZwqk",
        "colab": {
          "base_uri": "https://localhost:8080/"
        },
        "outputId": "68942acb-d1bf-4b5b-df93-5bff408c0c86"
      },
      "execution_count": null,
      "outputs": [
        {
          "output_type": "stream",
          "name": "stdout",
          "text": [
            "                                                        Profit      Sales  \\\n",
            "Product Name                                                                \n",
            "Canon imageCLASS 2200 Advanced Copier               25199.9280  61599.824   \n",
            "Hewlett Packard LaserJet 3310 Copier                 6983.8836  18839.686   \n",
            "Canon PC1060 Personal Laser Copier                   4570.9347  11619.834   \n",
            "Hewlett Packard 610 Color Digital Copier / Printer   3124.9375   8899.822   \n",
            "Canon Imageclass D680 Copier / Fax                   2799.9600   8959.872   \n",
            "Canon PC940 Copier                                   2092.4535   5669.874   \n",
            "Sharp AL-1530CS Digital Copier                       2064.9587   6399.872   \n",
            "Canon PC1080F Personal Copier                        1973.9671   5999.900   \n",
            "Canon Image Class D660 Copier                        1691.9718   3959.934   \n",
            "Sharp 1540cs Digital Laser Copier                    1649.9700   4399.920   \n",
            "Canon PC-428 Personal Copier                         1469.9265   4119.794   \n",
            "Brother DCP1000 Digital 3 in 1 Multifunction Ma...   1154.9615   4859.838   \n",
            "Hewlett Packard 310 Color Digital Copier              839.9720   4199.860   \n",
            "\n",
            "                                                    Quantity  \n",
            "Product Name                                                  \n",
            "Canon imageCLASS 2200 Advanced Copier                     20  \n",
            "Hewlett Packard LaserJet 3310 Copier                      38  \n",
            "Canon PC1060 Personal Laser Copier                        19  \n",
            "Hewlett Packard 610 Color Digital Copier / Printer        21  \n",
            "Canon Imageclass D680 Copier / Fax                        16  \n",
            "Canon PC940 Copier                                        15  \n",
            "Sharp AL-1530CS Digital Copier                            17  \n",
            "Canon PC1080F Personal Copier                             11  \n",
            "Canon Image Class D660 Copier                              7  \n",
            "Sharp 1540cs Digital Laser Copier                         10  \n",
            "Canon PC-428 Personal Copier                              25  \n",
            "Brother DCP1000 Digital 3 in 1 Multifunction Ma...        19  \n",
            "Hewlett Packard 310 Color Digital Copier                  16  \n"
          ]
        }
      ]
    },
    {
      "cell_type": "code",
      "source": [
        "#Checking profit for phones\n",
        "PhonesOrders = SalesData.loc[SalesData[\"Sub-Category\"] == \"Phones\" ]\n",
        "PhonesProfit = PhonesOrders[[\"Product Name\", \"Profit\", \"Sales\", \"Quantity\"]].groupby(by = \"Product Name\").sum().sort_values(by = \"Profit\", ascending = False)\n",
        "print(PhonesProfit)"
      ],
      "metadata": {
        "id": "-8AawXdgdgdp",
        "colab": {
          "base_uri": "https://localhost:8080/"
        },
        "outputId": "ee8255ee-d02b-4638-80bb-f639e0d1e9b0"
      },
      "execution_count": null,
      "outputs": [
        {
          "output_type": "stream",
          "name": "stdout",
          "text": [
            "                                                       Profit      Sales  \\\n",
            "Product Name                                                               \n",
            "Samsung Galaxy Mega 6.3                             1822.7566  13943.668   \n",
            "Apple iPhone 5                                      1611.5784  12996.600   \n",
            "Panasonic KX-TG9471B                                1168.1004   4978.146   \n",
            "Panasonic KX-TG9541B DECT 6.0 Digital 2-Line Ex...  1147.4235   3059.796   \n",
            "Samsung Galaxy S4 Mini                              1104.4765   6109.870   \n",
            "...                                                       ...        ...   \n",
            "Cisco IP Phone 7961G-GE VoIP phone                  -119.1190   2252.432   \n",
            "Samsung Galaxy Note 2                               -128.7972   4507.902   \n",
            "LG Exalt                                            -212.1464   1154.326   \n",
            "Jawbone MINI JAMBOX Wireless Bluetooth Speaker      -339.7104   2027.304   \n",
            "LG G2                                               -374.9925   1499.970   \n",
            "\n",
            "                                                    Quantity  \n",
            "Product Name                                                  \n",
            "Samsung Galaxy Mega 6.3                                   39  \n",
            "Apple iPhone 5                                            24  \n",
            "Panasonic KX-TG9471B                                      27  \n",
            "Panasonic KX-TG9541B DECT 6.0 Digital 2-Line Ex...        25  \n",
            "Samsung Galaxy S4 Mini                                    15  \n",
            "...                                                      ...  \n",
            "Cisco IP Phone 7961G-GE VoIP phone                        15  \n",
            "Samsung Galaxy Note 2                                     14  \n",
            "LG Exalt                                                  12  \n",
            "Jawbone MINI JAMBOX Wireless Bluetooth Speaker            18  \n",
            "LG G2                                                      5  \n",
            "\n",
            "[189 rows x 3 columns]\n"
          ]
        }
      ]
    },
    {
      "cell_type": "code",
      "source": [
        "#Checking profit for accessories\n",
        "AccessoriesOrders = SalesData.loc[SalesData[\"Sub-Category\"] == \"Accessories\" ]\n",
        "AccessoriesProfit = AccessoriesOrders[[\"Product Name\", \"Profit\", \"Sales\", \"Quantity\"]].groupby(by = \"Product Name\").sum().sort_values(by = \"Profit\", ascending = False)\n",
        "print(AccessoriesProfit)"
      ],
      "metadata": {
        "id": "EOxI90PtHp08",
        "colab": {
          "base_uri": "https://localhost:8080/"
        },
        "outputId": "8f37b6f3-2f21-4e2d-d1e7-dbf8d3612872"
      },
      "execution_count": null,
      "outputs": [
        {
          "output_type": "stream",
          "name": "stdout",
          "text": [
            "                                                       Profit      Sales  \\\n",
            "Product Name                                                               \n",
            "Plantronics Savi W720 Multi-Device Wireless Hea...  3696.2820   9367.290   \n",
            "Plantronics CS510 - Over-the-Head monaural Wire...  3085.0325  10822.360   \n",
            "Logitech Z-906 Speaker sys - home theater - 5.1-CH  2243.9320   5609.830   \n",
            "Razer Tiamat Over Ear 7.1 Surround Sound PC Gam...  2155.8922   5119.744   \n",
            "Logitech P710e Mobile Speakerphone                  1645.3611  10196.604   \n",
            "...                                                       ...        ...   \n",
            "Case Logic 2.4GHz Wireless Keyboard                  -11.9976   1229.754   \n",
            "Logitech Keyboard K120                               -19.6020    174.240   \n",
            "Memorex 25GB 6X Branded Blu-Ray Recordable Disc...   -32.2695    472.860   \n",
            "SanDisk Ultra 16 GB MicroSDHC Class 10 Memory Card   -48.5826    329.946   \n",
            "V7 USB Numeric Keypad                                -58.7832    461.868   \n",
            "\n",
            "                                                    Quantity  \n",
            "Product Name                                                  \n",
            "Plantronics Savi W720 Multi-Device Wireless Hea...        24  \n",
            "Plantronics CS510 - Over-the-Head monaural Wire...        35  \n",
            "Logitech Z-906 Speaker sys - home theater - 5.1-CH        17  \n",
            "Razer Tiamat Over Ear 7.1 Surround Sound PC Gam...        26  \n",
            "Logitech P710e Mobile Speakerphone                        41  \n",
            "...                                                      ...  \n",
            "Case Logic 2.4GHz Wireless Keyboard                       27  \n",
            "Logitech Keyboard K120                                    12  \n",
            "Memorex 25GB 6X Branded Blu-Ray Recordable Disc...        17  \n",
            "SanDisk Ultra 16 GB MicroSDHC Class 10 Memory Card        31  \n",
            "V7 USB Numeric Keypad                                     16  \n",
            "\n",
            "[147 rows x 3 columns]\n"
          ]
        }
      ]
    },
    {
      "cell_type": "code",
      "source": [
        "#Checking the most profitable individual product\n",
        "Profit = SalesData[[\"Product Name\", \"Profit\"]].groupby(by = \"Product Name\").sum().sort_values(by = \"Profit\", ascending = False)\n",
        "print(Profit)"
      ],
      "metadata": {
        "id": "wDVbZwzSgpE5",
        "colab": {
          "base_uri": "https://localhost:8080/"
        },
        "outputId": "d4dabd7d-7119-498a-d25f-84eaf49e9dbb"
      },
      "execution_count": null,
      "outputs": [
        {
          "output_type": "stream",
          "name": "stdout",
          "text": [
            "                                                        Profit\n",
            "Product Name                                                  \n",
            "Canon imageCLASS 2200 Advanced Copier               25199.9280\n",
            "Fellowes PB500 Electric Punch Plastic Comb Bind...   7753.0390\n",
            "Hewlett Packard LaserJet 3310 Copier                 6983.8836\n",
            "Canon PC1060 Personal Laser Copier                   4570.9347\n",
            "HP Designjet T520 Inkjet Large Format Printer -...   4094.9766\n",
            "...                                                        ...\n",
            "Bush Advantage Collection Racetrack Conference ...  -1934.3976\n",
            "Chromcraft Bull-Nose Wood Oval Conference Table...  -2876.1156\n",
            "Cubify CubeX 3D Printer Triple Head Print           -3839.9904\n",
            "Lexmark MX611dhe Monochrome Laser Printer           -4589.9730\n",
            "Cubify CubeX 3D Printer Double Head Print           -8879.9704\n",
            "\n",
            "[1850 rows x 1 columns]\n"
          ]
        }
      ]
    },
    {
      "cell_type": "code",
      "source": [
        "#Individual product with the highest Profit per unit\n",
        "SalesData[\"ProfitPerUnit\"] = SalesData[\"Profit\"] / SalesData[\"Quantity\"]\n",
        "AverageProfit = SalesData[[\"Product Name\", \"ProfitPerUnit\"]].groupby(by = \"Product Name\").mean().sort_values(by = \"ProfitPerUnit\", ascending = False)\n",
        "print(AverageProfit)"
      ],
      "metadata": {
        "id": "9A0uv8Avx22q",
        "colab": {
          "base_uri": "https://localhost:8080/"
        },
        "outputId": "99a43da9-84ba-4033-d8b8-aa3aa983ca2f"
      },
      "execution_count": null,
      "outputs": [
        {
          "output_type": "stream",
          "name": "stdout",
          "text": [
            "                                                    ProfitPerUnit\n",
            "Product Name                                                     \n",
            "Canon imageCLASS 2200 Advanced Copier                 1259.996400\n",
            "Canon imageCLASS MF7460 Monochrome Digital Lase...     997.995000\n",
            "Zebra ZM400 Thermal Label Printer                      557.256000\n",
            "Ativa V4110MDD Micro-Cut Shredder                      342.995100\n",
            "3D Systems Cube Printer, 2nd Generation, Magenta       337.997400\n",
            "...                                                           ...\n",
            "Zebra GK420t Direct Thermal/Thermal Transfer Pr...    -156.380000\n",
            "Lexmark MX611dhe Monochrome Laser Printer             -169.999000\n",
            "Cisco TelePresence System EX90 Videoconferencin...    -301.846400\n",
            "Cubify CubeX 3D Printer Double Head Print             -819.997267\n",
            "Cubify CubeX 3D Printer Triple Head Print             -959.997600\n",
            "\n",
            "[1850 rows x 1 columns]\n"
          ]
        }
      ]
    },
    {
      "cell_type": "code",
      "source": [
        "#Profit per unit in copier category\n",
        "SalesData[\"ProfitPerUnit\"] = SalesData[\"Profit\"] / SalesData[\"Quantity\"]\n",
        "CopierOrders = SalesData.loc[SalesData[\"Sub-Category\"] == \"Copiers\"]\n",
        "averageProfitCopier = CopierOrders[[\"Product Name\", \"ProfitPerUnit\"]].groupby(by = \"Product Name\").mean().sort_values(by = \"ProfitPerUnit\", ascending = False)\n",
        "print(averageProfitCopier)"
      ],
      "metadata": {
        "id": "opbuPxyxUyOO",
        "colab": {
          "base_uri": "https://localhost:8080/"
        },
        "outputId": "5763f47c-f5c9-4ba6-f5e9-f7ad92467491"
      },
      "execution_count": null,
      "outputs": [
        {
          "output_type": "stream",
          "name": "stdout",
          "text": [
            "                                                    ProfitPerUnit\n",
            "Product Name                                                     \n",
            "Canon imageCLASS 2200 Advanced Copier                 1259.996400\n",
            "Canon PC1060 Personal Laser Copier                     223.996800\n",
            "Canon Image Class D660 Copier                          215.996400\n",
            "Canon PC1080F Personal Copier                          203.996600\n",
            "Sharp 1540cs Digital Laser Copier                      180.711000\n",
            "Canon Imageclass D680 Copier / Fax                     174.997500\n",
            "Hewlett Packard LaserJet 3310 Copier                   167.997200\n",
            "Hewlett Packard 610 Color Digital Copier / Printer     153.568357\n",
            "Canon PC940 Copier                                     121.497300\n",
            "Sharp AL-1530CS Digital Copier                         119.997600\n",
            "Brother DCP1000 Digital 3 in 1 Multifunction Ma...      62.140786\n",
            "Canon PC-428 Personal Copier                            53.997300\n",
            "Hewlett Packard 310 Color Digital Copier                49.998333\n"
          ]
        }
      ]
    },
    {
      "cell_type": "code",
      "source": [
        "#Canon imageCLASS 2200 Advanced Copier by year\n",
        "SalesData[\"ProfitPerUnit\"] = SalesData[\"Profit\"] / SalesData[\"Quantity\"]\n",
        "SalesData[\"Year\"] = SalesData[\"Order Date\"].dt.year\n",
        "Years = SalesData.Year.unique()\n",
        "JustP1 = SalesData.loc[SalesData[\"Product Name\"] == \"Canon imageCLASS 2200 Advanced Copier\"]\n",
        "for year in Years:\n",
        "  p1 = JustP1.loc[JustP1[\"Year\"] == year]\n",
        "  print(year)\n",
        "  p1Data = p1[[\"Product Name\", \"ProfitPerUnit\", \"Discount\"]].groupby(by = \"Product Name\").mean().sort_values(by = \"ProfitPerUnit\")\n",
        "  print(p1Data)\n",
        "  p1Data = p1[[\"Product Name\", \"Sales\", \"Profit\", \"Quantity\"]].groupby(by = \"Product Name\").sum().sort_values(by = \"Sales\")\n",
        "  print(p1Data)\n",
        "  print()\n",
        "  print(\"*\"*40)\n",
        "  print()"
      ],
      "metadata": {
        "id": "M9ERVOBks16K",
        "colab": {
          "base_uri": "https://localhost:8080/"
        },
        "outputId": "644a99bf-fdb5-453f-aed5-d8693f81bf15"
      },
      "execution_count": null,
      "outputs": [
        {
          "output_type": "stream",
          "name": "stdout",
          "text": [
            "2016\n",
            "                                       ProfitPerUnit  Discount\n",
            "Product Name                                                  \n",
            "Canon imageCLASS 2200 Advanced Copier       979.9972       0.2\n",
            "                                           Sales     Profit  Quantity\n",
            "Product Name                                                         \n",
            "Canon imageCLASS 2200 Advanced Copier  25899.926  9519.9728         9\n",
            "\n",
            "****************************************\n",
            "\n",
            "2017\n",
            "                                       ProfitPerUnit  Discount\n",
            "Product Name                                                  \n",
            "Canon imageCLASS 2200 Advanced Copier    1446.662533  0.066667\n",
            "                                           Sales      Profit  Quantity\n",
            "Product Name                                                          \n",
            "Canon imageCLASS 2200 Advanced Copier  35699.898  15679.9552        11\n",
            "\n",
            "****************************************\n",
            "\n",
            "2018\n",
            "Empty DataFrame\n",
            "Columns: [ProfitPerUnit, Discount]\n",
            "Index: []\n",
            "Empty DataFrame\n",
            "Columns: [Sales, Profit, Quantity]\n",
            "Index: []\n",
            "\n",
            "****************************************\n",
            "\n",
            "2019\n",
            "Empty DataFrame\n",
            "Columns: [ProfitPerUnit, Discount]\n",
            "Index: []\n",
            "Empty DataFrame\n",
            "Columns: [Sales, Profit, Quantity]\n",
            "Index: []\n",
            "\n",
            "****************************************\n",
            "\n"
          ]
        }
      ]
    },
    {
      "cell_type": "code",
      "source": [
        "#Canon imageCLASS 2200 Advanced Copier by Region\n",
        "SalesData[\"ProfitPerUnit\"] = SalesData[\"Profit\"] / SalesData[\"Quantity\"]\n",
        "JustP1 = SalesData.loc[SalesData[\"Product Name\"] == \"Canon imageCLASS 2200 Advanced Copier\"]\n",
        "Regions = JustP1.Region.unique()\n",
        "for region in Regions:\n",
        "  p1 = JustP1.loc[JustP1[\"Region\"] == region]\n",
        "  print(region)\n",
        "  p1Data = p1[[\"Product Name\", \"ProfitPerUnit\", \"Discount\"]].groupby(by = \"Product Name\").mean().sort_values(by = \"ProfitPerUnit\")\n",
        "  print(p1Data)\n",
        "  p1Data = p1[[\"Product Name\", \"Sales\", \"Profit\", \"Region\", \"Quantity\"]].groupby(by = \"Product Name\").sum().sort_values(by = \"Sales\")\n",
        "  print(p1Data)\n",
        "  print()\n",
        "  print(\"*\"*40)\n",
        "  print()"
      ],
      "metadata": {
        "id": "MDbdVzkz_UxA",
        "colab": {
          "base_uri": "https://localhost:8080/"
        },
        "outputId": "a141ec6d-0c56-42ff-dd59-d17287c3d276"
      },
      "execution_count": null,
      "outputs": [
        {
          "output_type": "stream",
          "name": "stdout",
          "text": [
            "East\n",
            "                                       ProfitPerUnit  Discount\n",
            "Product Name                                                  \n",
            "Canon imageCLASS 2200 Advanced Copier       979.9972       0.2\n",
            "                                           Sales      Profit  Quantity\n",
            "Product Name                                                          \n",
            "Canon imageCLASS 2200 Advanced Copier  30099.914  10079.9712        11\n",
            "\n",
            "****************************************\n",
            "\n",
            "Central\n",
            "                                       ProfitPerUnit  Discount\n",
            "Product Name                                                  \n",
            "Canon imageCLASS 2200 Advanced Copier      1679.9952       0.0\n",
            "                                          Sales    Profit  Quantity\n",
            "Product Name                                                       \n",
            "Canon imageCLASS 2200 Advanced Copier  17499.95  8399.976         5\n",
            "\n",
            "****************************************\n",
            "\n",
            "West\n",
            "                                       ProfitPerUnit  Discount\n",
            "Product Name                                                  \n",
            "Canon imageCLASS 2200 Advanced Copier      1679.9952       0.0\n",
            "                                          Sales     Profit  Quantity\n",
            "Product Name                                                        \n",
            "Canon imageCLASS 2200 Advanced Copier  13999.96  6719.9808         4\n",
            "\n",
            "****************************************\n",
            "\n"
          ]
        },
        {
          "output_type": "stream",
          "name": "stderr",
          "text": [
            "<ipython-input-38-c0821d5ddfd8>:10: FutureWarning: The default value of numeric_only in DataFrameGroupBy.sum is deprecated. In a future version, numeric_only will default to False. Either specify numeric_only or select only columns which should be valid for the function.\n",
            "  p1Data = p1[[\"Product Name\", \"Sales\", \"Profit\", \"Region\", \"Quantity\"]].groupby(by = \"Product Name\").sum().sort_values(by = \"Sales\")\n",
            "<ipython-input-38-c0821d5ddfd8>:10: FutureWarning: The default value of numeric_only in DataFrameGroupBy.sum is deprecated. In a future version, numeric_only will default to False. Either specify numeric_only or select only columns which should be valid for the function.\n",
            "  p1Data = p1[[\"Product Name\", \"Sales\", \"Profit\", \"Region\", \"Quantity\"]].groupby(by = \"Product Name\").sum().sort_values(by = \"Sales\")\n",
            "<ipython-input-38-c0821d5ddfd8>:10: FutureWarning: The default value of numeric_only in DataFrameGroupBy.sum is deprecated. In a future version, numeric_only will default to False. Either specify numeric_only or select only columns which should be valid for the function.\n",
            "  p1Data = p1[[\"Product Name\", \"Sales\", \"Profit\", \"Region\", \"Quantity\"]].groupby(by = \"Product Name\").sum().sort_values(by = \"Sales\")\n"
          ]
        }
      ]
    },
    {
      "cell_type": "code",
      "source": [
        "#Canon imageCLASS 2200 Advanced Copier by quarter\n",
        "SalesData[\"ProfitPerUnit\"] = SalesData[\"Profit\"] / SalesData[\"Quantity\"]\n",
        "SalesData[\"Quarter\"] = SalesData[\"Order Date\"].dt.quarter\n",
        "JustP1 = SalesData.loc[SalesData[\"Product Name\"] == \"Canon imageCLASS 2200 Advanced Copier\"]\n",
        "Quarters = SalesData.Quarter.unique()\n",
        "for quarter in Quarters:\n",
        "  p1 = JustP1.loc[JustP1[\"Quarter\"] == quarter]\n",
        "  print(quarter)\n",
        "  p1Data = p1[[\"Product Name\", \"ProfitPerUnit\", \"Discount\"]].groupby(by = \"Product Name\").mean().sort_values(by = \"ProfitPerUnit\")\n",
        "  print(p1Data)\n",
        "  p1Data = p1[[\"Product Name\", \"Sales\", \"Profit\", \"Quantity\"]].groupby(by = \"Product Name\").sum().sort_values(by = \"Sales\")\n",
        "  print(p1Data)\n",
        "  print()\n",
        "  print(\"*\"*40)\n",
        "  print()"
      ],
      "metadata": {
        "id": "crPnqHgfk-pN",
        "colab": {
          "base_uri": "https://localhost:8080/"
        },
        "outputId": "a9fb6b4c-d9e4-4044-b624-39ffd74a9891"
      },
      "execution_count": null,
      "outputs": [
        {
          "output_type": "stream",
          "name": "stdout",
          "text": [
            "1\n",
            "                                       ProfitPerUnit  Discount\n",
            "Product Name                                                  \n",
            "Canon imageCLASS 2200 Advanced Copier      1679.9952       0.0\n",
            "                                          Sales     Profit  Quantity\n",
            "Product Name                                                        \n",
            "Canon imageCLASS 2200 Advanced Copier  13999.96  6719.9808         4\n",
            "\n",
            "****************************************\n",
            "\n",
            "2\n",
            "                                       ProfitPerUnit  Discount\n",
            "Product Name                                                  \n",
            "Canon imageCLASS 2200 Advanced Copier       279.9992       0.4\n",
            "                                          Sales     Profit  Quantity\n",
            "Product Name                                                        \n",
            "Canon imageCLASS 2200 Advanced Copier  8399.976  1119.9968         4\n",
            "\n",
            "****************************************\n",
            "\n",
            "3\n",
            "Empty DataFrame\n",
            "Columns: [ProfitPerUnit, Discount]\n",
            "Index: []\n",
            "Empty DataFrame\n",
            "Columns: [Sales, Profit, Quantity]\n",
            "Index: []\n",
            "\n",
            "****************************************\n",
            "\n",
            "4\n",
            "                                       ProfitPerUnit  Discount\n",
            "Product Name                                                  \n",
            "Canon imageCLASS 2200 Advanced Copier    1446.662533  0.066667\n",
            "                                           Sales      Profit  Quantity\n",
            "Product Name                                                          \n",
            "Canon imageCLASS 2200 Advanced Copier  39199.888  17359.9504        12\n",
            "\n",
            "****************************************\n",
            "\n"
          ]
        }
      ]
    },
    {
      "cell_type": "code",
      "source": [
        "#Profit per unit for each sub category\n",
        "SalesData[\"ProfitPerUnit\"] = SalesData[\"Profit\"] / SalesData[\"Quantity\"]\n",
        "AverageProfit = SalesData[[\"Sub-Category\", \"ProfitPerUnit\"]].groupby(by = \"Sub-Category\").mean().sort_values(by = \"ProfitPerUnit\", ascending = False)\n",
        "print(AverageProfit)"
      ],
      "metadata": {
        "id": "T_KqND_r60xQ",
        "colab": {
          "base_uri": "https://localhost:8080/"
        },
        "outputId": "d8890ddd-80ba-4e94-b996-3c2d8e9aaf9a"
      },
      "execution_count": null,
      "outputs": [
        {
          "output_type": "stream",
          "name": "stdout",
          "text": [
            "              ProfitPerUnit\n",
            "Sub-Category               \n",
            "Copiers          219.210450\n",
            "Accessories       14.132006\n",
            "Phones            13.826966\n",
            "Chairs            10.203809\n",
            "Appliances         9.620148\n",
            "Envelopes          8.083827\n",
            "Binders            7.211178\n",
            "Paper              6.803805\n",
            "Storage            6.418471\n",
            "Machines           5.435072\n",
            "Labels             3.688775\n",
            "Furnishings        3.547943\n",
            "Art                2.111323\n",
            "Fasteners          1.058296\n",
            "Supplies          -2.407674\n",
            "Bookcases         -2.707413\n",
            "Tables           -15.574930\n"
          ]
        }
      ]
    },
    {
      "cell_type": "code",
      "source": [
        "#Copier Year data\n",
        "SalesData[\"ProfitPerUnit\"] = SalesData[\"Profit\"] / SalesData[\"Quantity\"]\n",
        "SalesData[\"Year\"] = SalesData[\"Order Date\"].dt.year\n",
        "Years = SalesData.Year.unique()\n",
        "JustCopiers = SalesData.loc[SalesData[\"Sub-Category\"] == \"Copiers\"]\n",
        "for year in Years:\n",
        "  CopiersYear = JustCopiers.loc[JustCopiers[\"Year\"] == year]\n",
        "  print(year)\n",
        "  CopierData = CopiersYear[[\"Sub-Category\", \"Discount\", \"ProfitPerUnit\"]].groupby(by = \"Sub-Category\").mean()\n",
        "  print(CopierData)\n",
        "  CopierData = CopiersYear[[\"Sub-Category\", \"Sales\", \"Profit\", \"Quantity\" ]].groupby(by = \"Sub-Category\").sum()\n",
        "  print(CopierData)\n",
        "  print()\n",
        "  print(\"*\"*40)\n",
        "  print()\n"
      ],
      "metadata": {
        "id": "nPa6hHDD7QnH",
        "colab": {
          "base_uri": "https://localhost:8080/"
        },
        "outputId": "dde571e6-b826-46f5-fb09-af06ecc57374"
      },
      "execution_count": null,
      "outputs": [
        {
          "output_type": "stream",
          "name": "stdout",
          "text": [
            "2016\n",
            "              Discount  ProfitPerUnit\n",
            "Sub-Category                         \n",
            "Copiers          0.175      227.62235\n",
            "                 Sales      Profit  Quantity\n",
            "Sub-Category                                \n",
            "Copiers       49599.41  17742.7926        69\n",
            "\n",
            "****************************************\n",
            "\n",
            "2017\n",
            "              Discount  ProfitPerUnit\n",
            "Sub-Category                         \n",
            "Copiers       0.154545     318.179005\n",
            "                  Sales      Profit  Quantity\n",
            "Sub-Category                                 \n",
            "Copiers       62899.388  25031.7902        73\n",
            "\n",
            "****************************************\n",
            "\n",
            "2018\n",
            "              Discount  ProfitPerUnit\n",
            "Sub-Category                         \n",
            "Copiers           0.22      117.84777\n",
            "                  Sales     Profit  Quantity\n",
            "Sub-Category                                \n",
            "Copiers       10849.782  2912.9433        29\n",
            "\n",
            "****************************************\n",
            "\n",
            "2019\n",
            "              Discount  ProfitPerUnit\n",
            "Sub-Category                         \n",
            "Copiers           0.13      154.29686\n",
            "                 Sales     Profit  Quantity\n",
            "Sub-Category                               \n",
            "Copiers       26179.45  9930.2988        63\n",
            "\n",
            "****************************************\n",
            "\n"
          ]
        }
      ]
    },
    {
      "cell_type": "code",
      "source": [
        "#Copier Quantity Sold by Year\n",
        "SalesData[\"ProfitPerUnit\"] = SalesData[\"Profit\"] / SalesData[\"Quantity\"]\n",
        "SalesData[\"Year\"] = SalesData[\"Order Date\"].dt.year\n",
        "Years = SalesData.Year.unique()\n",
        "SalesData[\"ProfitPerUnit\"] = SalesData[\"Profit\"] / SalesData[\"Quantity\"]\n",
        "JustCopiers = SalesData.loc[SalesData[\"Sub-Category\"] == \"Copiers\"]\n",
        "CopierData = JustCopiers.copy()\n",
        "CopierData = CopierData[[\"Year\", \"Quantity\"]].groupby(\"Year\").sum()\n",
        "CopierData = CopierData.reset_index()\n",
        "CopierData = pd.melt(CopierData, id_vars = \"Year\", var_name = \"Copiers\", value_name = \"Annual Dollars\")\n",
        "CatPlot1 = sns.catplot(x = \"Year\", y = \"Annual Dollars\", hue = \"Copiers\", data = CopierData, kind = \"bar\")\n",
        "CatPlot1.fig.suptitle(\"Copier Quantity Sold by Year\")\n",
        "plt.show()"
      ],
      "metadata": {
        "id": "cvsPKgSXVdmu",
        "colab": {
          "base_uri": "https://localhost:8080/",
          "height": 512
        },
        "outputId": "e36926a6-4e70-461d-a24e-89f1f736abb0"
      },
      "execution_count": null,
      "outputs": [
        {
          "output_type": "display_data",
          "data": {
            "text/plain": [
              "<Figure size 610.125x500 with 1 Axes>"
            ],
            "image/png": "[encoded data removed]"
          },
          "metadata": {}
        }
      ]
    },
    {
      "cell_type": "code",
      "source": [
        "#Copier Quantity Sold by Year\n",
        "SalesData[\"ProfitPerUnit\"] = SalesData[\"Profit\"] / SalesData[\"Quantity\"]\n",
        "JustCopiers = SalesData.loc[SalesData[\"Sub-Category\"] == \"Copiers\"]\n",
        "CopierData = JustCopiers.copy()\n",
        "CopierData = CopierData[[\"Year\", \"Quantity\"]].groupby(\"Year\").sum()\n",
        "CopierData = CopierData.reset_index()\n",
        "fig = plt.figure()\n",
        "ax = fig.add_subplot(1, 2, 1)\n",
        "ax.plot(CopierData.Year, CopierData.Quantity, label = \"Quantity Sold\")\n",
        "ax.set_title(\"Number of Copiers Sold by Year\")\n",
        "plt.legend(loc = (0.4, 0.85))\n",
        "plt.show()"
      ],
      "metadata": {
        "id": "EJrja4Ddkzw9",
        "colab": {
          "base_uri": "https://localhost:8080/",
          "height": 452
        },
        "outputId": "16b347a9-b100-494e-c64c-d83f0db7675e"
      },
      "execution_count": null,
      "outputs": [
        {
          "output_type": "display_data",
          "data": {
            "text/plain": [
              "<Figure size 640x480 with 1 Axes>"
            ],
            "image/png": "[encoded data removed]"
          },
          "metadata": {}
        }
      ]
    },
    {
      "cell_type": "code",
      "source": [
        "#Graph of Copier Sales and Profit by Year\n",
        "SalesData[\"ProfitPerUnit\"] = SalesData[\"Profit\"] / SalesData[\"Quantity\"]\n",
        "JustCopiers = SalesData.loc[SalesData[\"Sub-Category\"] == \"Copiers\"]\n",
        "CopierData = JustCopiers.copy()\n",
        "CopierData = CopierData[[\"Year\", \"Sales\", \"Profit\"]].groupby(\"Year\").sum()\n",
        "CopierData = CopierData.reset_index()\n",
        "CopierData = pd.melt(CopierData, id_vars = \"Year\", var_name = \"Copiers\", value_name = \"Annual Dollars\")\n",
        "CatPlot1 = sns.catplot(x = \"Year\", y = \"Annual Dollars\", hue = \"Copiers\", data = CopierData, kind = \"bar\")\n",
        "CatPlot1.fig.suptitle(\"Copier Sales and Profit by Year\")\n",
        "plt.show()"
      ],
      "metadata": {
        "id": "SkPePJ9-JpBL",
        "colab": {
          "base_uri": "https://localhost:8080/",
          "height": 512
        },
        "outputId": "3691dcaf-0377-49bb-9814-9c9b49105e4e"
      },
      "execution_count": null,
      "outputs": [
        {
          "output_type": "display_data",
          "data": {
            "text/plain": [
              "<Figure size 586.875x500 with 1 Axes>"
            ],
            "image/png": "[encoded data removed]"
          },
          "metadata": {}
        }
      ]
    },
    {
      "cell_type": "code",
      "source": [
        "#Subcategory Quantity sold\n",
        "quantitySold = SalesData[[\"Sub-Category\", \"Quantity\"]].groupby(by = \"Sub-Category\").sum().sort_values(by = \"Quantity\", ascending = False)\n",
        "print(quantitySold)"
      ],
      "metadata": {
        "id": "e1aENtDt88Mp",
        "colab": {
          "base_uri": "https://localhost:8080/"
        },
        "outputId": "c2f07417-5413-4bfc-8cdf-7a30275d1d3a"
      },
      "execution_count": null,
      "outputs": [
        {
          "output_type": "stream",
          "name": "stdout",
          "text": [
            "              Quantity\n",
            "Sub-Category          \n",
            "Binders           5974\n",
            "Paper             5178\n",
            "Furnishings       3563\n",
            "Phones            3289\n",
            "Storage           3158\n",
            "Art               3000\n",
            "Accessories       2976\n",
            "Chairs            2356\n",
            "Appliances        1729\n",
            "Labels            1400\n",
            "Tables            1241\n",
            "Fasteners          914\n",
            "Envelopes          906\n",
            "Bookcases          868\n",
            "Supplies           647\n",
            "Machines           440\n",
            "Copiers            234\n"
          ]
        }
      ]
    },
    {
      "cell_type": "code",
      "source": [
        "#Copier Region Data\n",
        "SalesData[\"ProfitPerUnit\"] = SalesData[\"Profit\"] / SalesData[\"Quantity\"]\n",
        "Regions = SalesData.Region.unique()\n",
        "JustCopiers = SalesData.loc[SalesData[\"Sub-Category\"] == \"Copiers\"]\n",
        "for region in Regions:\n",
        "  CopiersYear = JustCopiers.loc[JustCopiers[\"Region\"] == region]\n",
        "  print(region)\n",
        "  CopierData = CopiersYear[[\"Sub-Category\", \"Discount\", \"ProfitPerUnit\"]].groupby(by = \"Sub-Category\").mean()\n",
        "  print(CopierData)\n",
        "  CopierData = CopiersYear[[\"Sub-Category\", \"Sales\", \"Profit\", \"Quantity\" ]].groupby(by = \"Sub-Category\").sum()\n",
        "  print(CopierData)\n",
        "  print()\n",
        "  print(\"*\"*40)\n",
        "  print()"
      ],
      "metadata": {
        "id": "-IuvrZx7MVdR",
        "colab": {
          "base_uri": "https://localhost:8080/"
        },
        "outputId": "6e122de2-3964-408e-97a7-6b71d7b7c7f1"
      },
      "execution_count": null,
      "outputs": [
        {
          "output_type": "stream",
          "name": "stdout",
          "text": [
            "East\n",
            "              Discount  ProfitPerUnit\n",
            "Sub-Category                         \n",
            "Copiers           0.25     233.672955\n",
            "                  Sales      Profit  Quantity\n",
            "Sub-Category                                 \n",
            "Copiers       53219.462  17022.8418        71\n",
            "\n",
            "****************************************\n",
            "\n",
            "West\n",
            "              Discount  ProfitPerUnit\n",
            "Sub-Category                         \n",
            "Copiers          0.144     202.217112\n",
            "                  Sales      Profit  Quantity\n",
            "Sub-Category                                 \n",
            "Copiers       49749.242  19327.2351        88\n",
            "\n",
            "****************************************\n",
            "\n",
            "Central\n",
            "              Discount  ProfitPerUnit\n",
            "Sub-Category                         \n",
            "Copiers         0.1125     259.027894\n",
            "                 Sales      Profit  Quantity\n",
            "Sub-Category                                \n",
            "Copiers       37259.57  15608.8413        49\n",
            "\n",
            "****************************************\n",
            "\n",
            "South\n",
            "              Discount  ProfitPerUnit\n",
            "Sub-Category                         \n",
            "Copiers       0.085714       147.5682\n",
            "                 Sales     Profit  Quantity\n",
            "Sub-Category                               \n",
            "Copiers       9299.756  3658.9067        26\n",
            "\n",
            "****************************************\n",
            "\n"
          ]
        }
      ]
    },
    {
      "cell_type": "code",
      "source": [
        "#Copier quarter data\n",
        "SalesData[\"ProfitPerUnit\"] = SalesData[\"Profit\"] / SalesData[\"Quantity\"]\n",
        "SalesData[\"Quarter\"] = SalesData[\"Order Date\"].dt.quarter\n",
        "Quarters = SalesData.Quarter.unique()\n",
        "JustCopiers = SalesData.loc[SalesData[\"Sub-Category\"] == \"Copiers\"]\n",
        "for quarter in Quarters:\n",
        "  CopiersYear = JustCopiers.loc[JustCopiers[\"Quarter\"] == quarter]\n",
        "  print(quarter)\n",
        "  CopierData = CopiersYear[[\"Sub-Category\", \"Discount\", \"ProfitPerUnit\"]].groupby(by = \"Sub-Category\").mean()\n",
        "  print(CopierData)\n",
        "  CopierData = CopiersYear[[\"Sub-Category\", \"Sales\", \"Profit\", \"Quantity\" ]].groupby(by = \"Sub-Category\").sum()\n",
        "  print(CopierData)\n",
        "  print()\n",
        "  print(\"*\"*40)\n",
        "  print()"
      ],
      "metadata": {
        "id": "91V5e4wVD3sO",
        "colab": {
          "base_uri": "https://localhost:8080/"
        },
        "outputId": "9d8105dc-023a-47ac-9c22-7a5cb6f4a59c"
      },
      "execution_count": null,
      "outputs": [
        {
          "output_type": "stream",
          "name": "stdout",
          "text": [
            "1\n",
            "              Discount  ProfitPerUnit\n",
            "Sub-Category                         \n",
            "Copiers           0.12      301.64707\n",
            "                  Sales      Profit  Quantity\n",
            "Sub-Category                                 \n",
            "Copiers       29549.654  12544.3724        38\n",
            "\n",
            "****************************************\n",
            "\n",
            "2\n",
            "              Discount  ProfitPerUnit\n",
            "Sub-Category                         \n",
            "Copiers       0.216667     106.956217\n",
            "                  Sales     Profit  Quantity\n",
            "Sub-Category                                \n",
            "Copiers       23179.652  5321.9024        45\n",
            "\n",
            "****************************************\n",
            "\n",
            "3\n",
            "              Discount  ProfitPerUnit\n",
            "Sub-Category                         \n",
            "Copiers       0.161905       132.9496\n",
            "                  Sales     Profit  Quantity\n",
            "Sub-Category                                \n",
            "Copiers       25829.434  8611.8112        68\n",
            "\n",
            "****************************************\n",
            "\n",
            "4\n",
            "              Discount  ProfitPerUnit\n",
            "Sub-Category                         \n",
            "Copiers          0.152     312.576948\n",
            "                 Sales      Profit  Quantity\n",
            "Sub-Category                                \n",
            "Copiers       70969.29  29139.7389        83\n",
            "\n",
            "****************************************\n",
            "\n"
          ]
        }
      ]
    },
    {
      "cell_type": "code",
      "source": [
        "#Copier Region Year\n",
        "SalesData[\"ProfitPerUnit\"] = SalesData[\"Profit\"] / SalesData[\"Quantity\"]\n",
        "SalesData[\"Year\"] = SalesData[\"Order Date\"].dt.year\n",
        "Years = SalesData.Year.unique()\n",
        "Regions = SalesData.Region.unique()\n",
        "JustCopiers = SalesData.loc[SalesData[\"Sub-Category\"] == \"Copiers\"]\n",
        "for year in Years:\n",
        "  CopiersYear = JustCopiers.loc[JustCopiers[\"Year\"] == year]\n",
        "  for region in Regions:\n",
        "    CopiersYearRegion = CopiersYear.loc[CopiersYear[\"Region\"] == region]\n",
        "    print(\"Year: \" + str(year) + \" Region: \" + region)\n",
        "    p = CopiersYearRegion[[\"Sub-Category\", \"Discount\", \"ProfitPerUnit\"]].groupby(by = \"Sub-Category\").mean()\n",
        "    print(p)\n",
        "    p = CopiersYearRegion[[\"Sub-Category\", \"Sales\", \"Profit\", \"Quantity\"]].groupby(by = \"Sub-Category\").sum()\n",
        "    print(p)\n",
        "    print()\n",
        "    print(\"*\"*40)\n",
        "    print()"
      ],
      "metadata": {
        "id": "pfj0Or3l5Qf1",
        "colab": {
          "base_uri": "https://localhost:8080/"
        },
        "outputId": "ba1a320a-9c4f-4435-f7bc-cc289f2bde4c"
      },
      "execution_count": null,
      "outputs": [
        {
          "output_type": "stream",
          "name": "stdout",
          "text": [
            "Year: 2016 Region: East\n",
            "              Discount  ProfitPerUnit\n",
            "Sub-Category                         \n",
            "Copiers       0.257143     137.998029\n",
            "                 Sales     Profit  Quantity\n",
            "Sub-Category                               \n",
            "Copiers       19759.77  5143.9248        29\n",
            "\n",
            "****************************************\n",
            "\n",
            "Year: 2016 Region: West\n",
            "              Discount  ProfitPerUnit\n",
            "Sub-Category                         \n",
            "Copiers       0.133333     145.330317\n",
            "                 Sales     Profit  Quantity\n",
            "Sub-Category                               \n",
            "Copiers       9779.802  3326.9334        23\n",
            "\n",
            "****************************************\n",
            "\n",
            "Year: 2016 Region: Central\n",
            "              Discount  ProfitPerUnit\n",
            "Sub-Category                         \n",
            "Copiers            0.0      1679.9952\n",
            "                 Sales    Profit  Quantity\n",
            "Sub-Category                              \n",
            "Copiers       17499.95  8399.976         5\n",
            "\n",
            "****************************************\n",
            "\n",
            "Year: 2016 Region: South\n",
            "              Discount  ProfitPerUnit\n",
            "Sub-Category                         \n",
            "Copiers            0.1       61.99715\n",
            "                 Sales    Profit  Quantity\n",
            "Sub-Category                              \n",
            "Copiers       2559.888  871.9584        12\n",
            "\n",
            "****************************************\n",
            "\n",
            "Year: 2017 Region: East\n",
            "              Discount  ProfitPerUnit\n",
            "Sub-Category                         \n",
            "Copiers            0.2      586.59746\n",
            "                 Sales     Profit  Quantity\n",
            "Sub-Category                               \n",
            "Copiers       24399.87  9572.9616        17\n",
            "\n",
            "****************************************\n",
            "\n",
            "Year: 2017 Region: West\n",
            "              Discount  ProfitPerUnit\n",
            "Sub-Category                         \n",
            "Copiers       0.145455       270.1791\n",
            "                  Sales      Profit  Quantity\n",
            "Sub-Category                                 \n",
            "Copiers       29459.676  12062.8873        38\n",
            "\n",
            "****************************************\n",
            "\n",
            "Year: 2017 Region: Central\n",
            "              Discount  ProfitPerUnit\n",
            "Sub-Category                         \n",
            "Copiers            0.2     111.997533\n",
            "                 Sales     Profit  Quantity\n",
            "Sub-Category                               \n",
            "Copiers       3679.928  1013.9795         9\n",
            "\n",
            "****************************************\n",
            "\n",
            "Year: 2017 Region: South\n",
            "              Discount  ProfitPerUnit\n",
            "Sub-Category                         \n",
            "Copiers       0.066667     252.996033\n",
            "                 Sales     Profit  Quantity\n",
            "Sub-Category                               \n",
            "Copiers       5359.914  2381.9618         9\n",
            "\n",
            "****************************************\n",
            "\n",
            "Year: 2018 Region: East\n",
            "              Discount  ProfitPerUnit\n",
            "Sub-Category                         \n",
            "Copiers           0.35       77.37375\n",
            "                 Sales    Profit  Quantity\n",
            "Sub-Category                              \n",
            "Copiers       4099.926  650.9887        12\n",
            "\n",
            "****************************************\n",
            "\n",
            "Year: 2018 Region: West\n",
            "              Discount  ProfitPerUnit\n",
            "Sub-Category                         \n",
            "Copiers            0.1       189.4966\n",
            "                 Sales     Profit  Quantity\n",
            "Sub-Category                               \n",
            "Copiers       2999.946  1136.9796         6\n",
            "\n",
            "****************************************\n",
            "\n",
            "Year: 2018 Region: Central\n",
            "              Discount  ProfitPerUnit\n",
            "Sub-Category                         \n",
            "Copiers       0.133333     148.330333\n",
            "                 Sales    Profit  Quantity\n",
            "Sub-Category                              \n",
            "Copiers       3269.926  1034.978         9\n",
            "\n",
            "****************************************\n",
            "\n",
            "Year: 2018 Region: South\n",
            "              Discount  ProfitPerUnit\n",
            "Sub-Category                         \n",
            "Copiers            0.2        44.9985\n",
            "                Sales  Profit  Quantity\n",
            "Sub-Category                           \n",
            "Copiers       479.984  89.997         2\n",
            "\n",
            "****************************************\n",
            "\n",
            "Year: 2019 Region: East\n",
            "              Discount  ProfitPerUnit\n",
            "Sub-Category                         \n",
            "Copiers            0.2      116.24765\n",
            "                 Sales     Profit  Quantity\n",
            "Sub-Category                               \n",
            "Copiers       4959.896  1654.9667        13\n",
            "\n",
            "****************************************\n",
            "\n",
            "Year: 2019 Region: West\n",
            "              Discount  ProfitPerUnit\n",
            "Sub-Category                         \n",
            "Copiers       0.166667       138.7471\n",
            "                 Sales     Profit  Quantity\n",
            "Sub-Category                               \n",
            "Copiers       7509.818  2800.4348        21\n",
            "\n",
            "****************************************\n",
            "\n",
            "Year: 2019 Region: Central\n",
            "              Discount  ProfitPerUnit\n",
            "Sub-Category                         \n",
            "Copiers       0.088889     187.051944\n",
            "                  Sales     Profit  Quantity\n",
            "Sub-Category                                \n",
            "Copiers       12809.766  5159.9078        26\n",
            "\n",
            "****************************************\n",
            "\n",
            "Year: 2019 Region: South\n",
            "              Discount  ProfitPerUnit\n",
            "Sub-Category                         \n",
            "Copiers            0.0       104.9965\n",
            "               Sales    Profit  Quantity\n",
            "Sub-Category                            \n",
            "Copiers       899.97  314.9895         3\n",
            "\n",
            "****************************************\n",
            "\n"
          ]
        }
      ]
    },
    {
      "cell_type": "code",
      "source": [
        "JustCopiers = SalesData.loc[SalesData[\"Sub-Category\"] == \"Copiers\"]\n",
        "n = JustCopiers[[\"Sub-Category\", \"Segment\"]]\n",
        "print(n.value_counts())"
      ],
      "metadata": {
        "id": "-CcfvudtVXKD",
        "colab": {
          "base_uri": "https://localhost:8080/"
        },
        "outputId": "b981a6b3-99f0-4b62-ac9a-b61342cfc8b7"
      },
      "execution_count": null,
      "outputs": [
        {
          "output_type": "stream",
          "name": "stdout",
          "text": [
            "Sub-Category  Segment    \n",
            "Copiers       Consumer       35\n",
            "              Corporate      20\n",
            "              Home Office    13\n",
            "dtype: int64\n"
          ]
        }
      ]
    },
    {
      "cell_type": "code",
      "source": [
        "#Machines by segement\n",
        "JustCopiers = SalesData.loc[SalesData[\"Sub-Category\"] == \"Machines\"]\n",
        "n = JustCopiers[[\"Sub-Category\", \"Segment\"]]\n",
        "print(n.value_counts())"
      ],
      "metadata": {
        "id": "m-i45Ki68hAc",
        "colab": {
          "base_uri": "https://localhost:8080/"
        },
        "outputId": "91791be7-7873-4451-be78-cf164f22eba7"
      },
      "execution_count": null,
      "outputs": [
        {
          "output_type": "stream",
          "name": "stdout",
          "text": [
            "Sub-Category  Segment    \n",
            "Machines      Consumer       57\n",
            "              Corporate      35\n",
            "              Home Office    23\n",
            "dtype: int64\n"
          ]
        }
      ]
    }
  ]
}